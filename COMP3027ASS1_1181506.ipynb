{
 "cells": [
  {
   "cell_type": "markdown",
   "metadata": {},
   "source": [
    "### The University of Melbourne, School of Computing and Information Systems\n",
    "# COMP30027 Machine Learning, 2022 Semester 1\n",
    "\n",
    "## Assignment 1: Naive Bayes Leaner for Adult Database\n"
   ]
  },
  {
   "cell_type": "markdown",
   "metadata": {},
   "source": [
    "**Student Name(s):** Lang (Ron) Chen\n",
    "<br>\n",
    "**Student ID(s):** 1181506"
   ]
  },
  {
   "cell_type": "markdown",
   "metadata": {},
   "source": [
    "\n",
    "\n",
    "Marking will be applied on the four functions that are defined in this notebook, and to your responses to the questions at the end of this notebook.\n",
    "\n",
    "## General info\n",
    "\n",
    "<b>Due date</b>: Friday, 8 April 2022 7pm\n",
    "\n",
    "<b>Submission method</b>: Canvas submission\n",
    "\n",
    "<b>Submission materials</b>: This iPython notebook is a template which you will use for your Assignment 1 submission. You need to only submitted the completed copy of this iPython notebook.\n",
    "\n",
    "<b>Late submissions</b>: -10% per day up to 5 days (both weekdays and weekends count). Submissions more than 5 days late will not be accepted (resul in a mark of 0).\n",
    "<ul>\n",
    "    <li>one day late, -1.0;</li>\n",
    "    <li>two days late, -2.0;</li>\n",
    "    <li>three days late, -3.0;</li>\n",
    "    <li>four days late, -4.0;</li>\n",
    "    <li>five days late, -5.0;</li>\n",
    "</ul>\n",
    "\n",
    "<b>Extensions</b>: Students who are demonstrably unable to submit a full solution in time due to medical reasons or other trauma, may apply for an extension.  In these cases, you should email <a href=\"mailto:ni.ding@unimelb.edu.au\">Ni Ding</a> as soon as possible after those circumstances arise. If you attend a GP or other health care service as a result of illness, be sure to provide a Health Professional Report (HPR) form (get it from the Special Consideration section of the Student Portal), you will need this form to be filled out if your illness develops into something that later requires a Special Consideration application to be lodged. You should scan the HPR form and send it with the extension requests.\n",
    "\n",
    "<b>Marks</b>: This assignment will be marked out of 20, and make up 20% of your overall mark for this subject.\n",
    "\n",
    "<b>Materials</b>: Use Jupyter Notebook and Python page on Canvas for information on the basic setup required for this class, including an iPython notebook viewer and the python packages NLTK, Numpy, Scipy, Matplotlib, Scikit-Learn. You can use any Python built-in packages, but do not use any other 3rd party packages; if your iPython notebook doesn't run on the marker's machine, you will lose marks. <b> You should use Python 3</b>.  \n",
    "\n",
    "\n",
    "<b>Evaluation</b>: Your iPython notebook should run end-to-end without any errors in a reasonable amount of time, and you must follow all instructions provided below, including specific implementation requirements and instructions for what needs to be printed (please avoid printing output we don't ask for). You should edit the sections below where requested, but leave the rest of the code as is. You should leave the output from running your code in the iPython notebook you submit, to assist with marking. The amount each section is worth is given in parenthesis after the instructions. \n",
    "\n",
    "You will be marked not only on the correctness of your methods, but also the quality and efficency of your code: in particular, you should be careful to use Python built-in functions and operators when appropriate and pick descriptive variable names that adhere to <a href=\"https://www.python.org/dev/peps/pep-0008/\">Python style requirements</a>. If you think it might be unclear what you are doing, you should comment your code to help the marker make sense of it. We reserve the right to deduct up to 2 marks for unreadable or exessively inefficient code.\n",
    "\n",
    "8 of the marks available for this Project will be assigned to whether the four specified Python functions work in a manner consistent with the materials from COMP30027. Any other implementation will not be directly assessed (except insofar as it is required to make these five functions work correctly).\n",
    "\n",
    "12 of the marks will be assigned to your responses to the questions, in terms of both accuracy and insightfulness. We will be looking for evidence that you have an implementation that allows you to explore the problem, but also that you have thought deeply about the data and the behaviour of the Naive Bayes classifier.\n",
    "\n",
    "<b>Updates</b>: Any major changes to the assignment will be announced via Canvas. Minor changes and clarifications will be announced on the discussion board (ED -> Assignments -> A1); we recommend you check it regularly.\n",
    "\n",
    "<b>Academic misconduct</b>: For most people, collaboration will form a natural part of the undertaking of this homework, and we encourge you to discuss it in general terms with other students. However, this ultimately is still an individual task, and so reuse of code or other instances of clear influence will be considered cheating. Please check the <a href=\"https://canvas.lms.unimelb.edu.au/courses/124196/modules#module_662096\">CIS Academic Honesty training</a> for more information. We will be checking submissions for originality and will invoke the University’s <a href=\"http://academichonesty.unimelb.edu.au/policy.html\">Academic Misconduct policy</a> where inappropriate levels of collusion or plagiarism are deemed to have taken place.\n",
    "\n",
    "**IMPORTANT**\n",
    "\n",
    "Please carefully read and fill out the <b>Authorship Declaration</b> form at the bottom of the page. Failure to fill out this form results in the following deductions: \n",
    "<UL TYPE=”square”>\n",
    "<LI>missing Authorship Declaration at the bottom of the page, -5.0\n",
    "<LI>incomplete or unsigned Authorship Declaration at the bottom of the page, -3.0\n",
    "</UL>\n",
    "**NOTE: COMPLETE AND SUBMIT THIS FILE. YOU SHOULD IMPLEMENT FOUR FUNCTIONS AND INCLUDE YOUR ANSWERS TO THE QUESTIONS IN THIS FILE ONLY. NO OTHER SUBMISSION IS REQUIRED.**\n",
    "\n",
    "**Keep your code clean. Adding proper comments to your code is MANDATORY.**"
   ]
  },
  {
   "cell_type": "markdown",
   "metadata": {},
   "source": [
    "## Part 1: Base code [8 marks]\n",
    "\n",
    "Instructions\n",
    "1. Do **not** shuffle the data set\n",
    "2. Treat the attributes as they are(e.g., do **not** convert numeric attributes to categorical or categorical to numeric). Implement a Naive Bayes classifier with appropriate likelihood function for each attribute.\n",
    "3. You should implement the Naive Bayes classifier from scratch. Do **not** use existing implementations/learning algorithms.\n",
    "4. You CANNOT have more than one train or predict function. Both continuous numeric attributes and categorical ones should be trained in one `train()` function, similarly for the `predict()`.  \n",
    "5. Apart from the instructions in point 3, you may use libraries to help you with data reading, representation, maths or evaluation\n",
    "6. Ensure that all and only required information is printed, as indicated in the final three code cells. Failure to adhere to print the required information will result in **[-1 mark]** per case. *(We don't mind details like you print a list or several numbers -- just make sure the information is displayed so that it's easily accessible)\n",
    "7. You may change the prototypes of these functions, and you may write other functions, according to your requirements. We would appreciate it if the required functions were prominent/easy to find. \n",
    "8. You should add adequate comments to make your code easily comprehendible.*"
   ]
  },
  {
   "cell_type": "code",
   "execution_count": 1,
   "metadata": {},
   "outputs": [],
   "source": [
    "# This function should prepare the data by reading it from a file and converting it into a useful format for training and testing\n",
    "# and implement 90-10 splitting as specified in the project description.\n",
    "import pandas as pd\n",
    "import numpy as np\n",
    "\n",
    "def preprocess(df):\n",
    "    \n",
    "    # split full dataframe into two dataframes x (attribute matrix) and y (labels)\n",
    "    x = df[df.columns[:-1]]\n",
    "    y = df[['label']]\n",
    "    \n",
    "    # run train_test_split 'manually' according to specification\n",
    "    cutoff = int(0.9 * len(x))\n",
    "    x_train = x.iloc[0:cutoff]\n",
    "    x_test = x.iloc[cutoff:]\n",
    "    y_train = y.iloc[0:cutoff]\n",
    "    y_test = y.iloc[cutoff:]\n",
    "    \n",
    "    return x_train, x_test, y_train, y_test"
   ]
  },
  {
   "cell_type": "code",
   "execution_count": 2,
   "metadata": {},
   "outputs": [],
   "source": [
    "# AFTER MUCH DELIBERATION, IT WAS DECIDED NOT TO ABSTRACT CERTAIN PARTS OF THE CODE INTO FUNCTIONS\n",
    "# IN KEEPING WITH MAXIMISING READABILITY. NAIVE BAYES INVOLVES RATHER COMPLEX DATA STRUCTURES,\n",
    "# AND KEEPING CODE IN 'CHRONOLOGICAL ORDER' UNDER ONE LARGER FUNCTION HAS BEEN DETERMINED TO\n",
    "# PROVIDE BETTER READABILITY. GIVEN THERE ARE ONLY TWO CLASSES, REPEATED CODE IS RATHER MINIMAL.\n",
    "\n",
    "# NOT THAT <100 LINES OF CODE IS A LOT - ESPECIALLY GIVEN MANY ARE COMMENTS\n",
    "\n",
    "\n",
    "# Instructions for reading in file: place file called 'adult.csv' in directory './dataset'"
   ]
  },
  {
   "cell_type": "code",
   "execution_count": 3,
   "metadata": {},
   "outputs": [],
   "source": [
    "# This function should calculat prior probabilities and likelihoods (conditional probabilities) \n",
    "# from the training data to build a Naive Bayes model\n",
    "\n",
    "# hardcode the columns which contain numerical attributes\n",
    "NUMERIC_ATTRBS = ['age', 'education num', 'hours per week']\n",
    "\n",
    "def train(x_train, y_train):\n",
    "    \n",
    "    # prepare the data - put x and y back together so can divide dataframe by class\n",
    "    train = x_train.copy()\n",
    "    train['label'] = y_train\n",
    "    \n",
    "    train_c1 = train[train['label'] == ' <=50K']\n",
    "    train_c2 = train[train['label'] == ' >50K']\n",
    "\n",
    "    # Create master dictionaries for each class, which will: for prior and numerical attributes store tuples \n",
    "    # containing log likelihood / mean and standard deviation respectively, or for ordinal attributes store \n",
    "    # dictionaries which contain log observed probabilities of each value.\n",
    "    \n",
    "    # for each dictionary/tuple, it will be surrounded by a further tuple with the second tuple value denoting  \n",
    "    # its status as a numerical attribute, ordinal attribute or prior.\n",
    "\n",
    "    c1_dict = dict() # for ' <=50K'\n",
    "    c2_dict = dict() # for ' >50K'\n",
    "    \n",
    "    # store the log prior probabilities as (prior log prob, 'prior')\n",
    "    c1_dict['prior'] = (np.log(len(train_c1) / len(train)), 'prior')\n",
    "    c2_dict['prior'] = (np.log(len(train_c2) / len(train)), 'prior')\n",
    "    \n",
    "    # iterate through the columns (use x_train to ensure the columns are attributes only)\n",
    "    for col in x_train.columns:\n",
    "        \n",
    "        # if iterate to a column that is numeric (by comparing to hardcoded list)\n",
    "        if col in NUMERIC_ATTRBS:\n",
    "            \n",
    "            # Prevent edge case of having '?' in numeric data which would cause np.mean and np.std to fail\n",
    "            # by putting all numeric data values into a new list.\n",
    "            tmp1 = list()\n",
    "            tmp2 = list()\n",
    "            \n",
    "            for i in train_c1[col].index:\n",
    "                if str(train_c1[col][i]).isnumeric(): # only put it in if it's numeric\n",
    "                    tmp1.append(float(train_c1[col][i])) # ensure that the values are floats, not strings\n",
    "                    # ** the problem is that if one value of the column is not numeric, then even numeric \n",
    "                    # values would be read in as strings by pandas, and would cause problems for subsequent phases\n",
    "            \n",
    "            for i in train_c2[col].index:\n",
    "                if str(train_c2[col][i]).isnumeric():\n",
    "                    tmp2.append(float(train_c2[col][i]))\n",
    "             \n",
    "            # store (mean, std) in ((mean, std), 'num')\n",
    "            c1_dict[col] = ((np.mean(tmp1), np.std(tmp1) * np.sqrt(len(tmp1) / (len(tmp1)-1))), 'num')\n",
    "            c2_dict[col] = ((np.mean(tmp2), np.std(tmp2) * np.sqrt(len(tmp2) / (len(tmp2)-1))), 'num')\n",
    "            # as np.std() is /n^0.5, and we typically use unbiased /(n-1)^0.5, thus need to do *[n/(n-1)]^0.5\n",
    "        \n",
    "        # if find a column that is nominal\n",
    "        else:\n",
    "            \n",
    "            # first find the set of all possible attribute values in the training set\n",
    "            attrb_val = set()\n",
    "            for val in train[col].value_counts().index:\n",
    "                attrb_val.add(val)\n",
    "            attrb_val = list(attrb_val)\n",
    "            \n",
    "            # for each value get its log observed probabilities (laplace smoothed alpha = 1)      \n",
    "            tmp1 = dict()\n",
    "            for i in range(len(train_c1[col].value_counts().index)):\n",
    "                # logic: dict[attrb value] = log( (counts_of_this_attribute_value + 1) / (n+p) ) \n",
    "                tmp1[train_c1[col].value_counts().index[i]] = np.log( (train_c1[col].value_counts().values[i] + 1) \n",
    "                                                                     / (len(train_c1)+len(attrb_val)) )\n",
    "            \n",
    "            # for unseen attribute values that exist in train data but are of other class labels\n",
    "            for i in range(len(attrb_val)):\n",
    "                if attrb_val[i] not in train_c1[col].value_counts().index:\n",
    "                    # logic: dict[unseen attrb value] = log(1/(n+p))\n",
    "                    tmp1[attrb_val[i]] = np.log( 1 / (len(train_c1)+len(attrb_val)) )\n",
    "            \n",
    "            # store {value: log cond probability} in ({value: log cond probability}, 'nom')\n",
    "            c1_dict[col] = (tmp1, 'nom')\n",
    "            \n",
    "            \n",
    "            tmp2 = dict()\n",
    "            for i in range(len(train_c2[col].value_counts().index)):\n",
    "                tmp2[train_c2[col].value_counts().index[i]] = np.log( (train_c2[col].value_counts().values[i] + 1) \n",
    "                                                                     / (len(train_c2)+len(attrb_val)) )\n",
    "            for i in range(len(attrb_val)):\n",
    "                if attrb_val[i] not in train_c2[col].value_counts().index:\n",
    "                    tmp2[attrb_val[i]] = np.log(1/(len(train_c2)+len(attrb_val)))\n",
    "                \n",
    "            c2_dict[col] = (tmp2, 'nom')\n",
    "            \n",
    "    \n",
    "    return c1_dict, c2_dict\n"
   ]
  },
  {
   "cell_type": "code",
   "execution_count": 4,
   "metadata": {},
   "outputs": [],
   "source": [
    "# This function should predict classes for new items in the testing data\n",
    "import random\n",
    "\n",
    "def predict(x_test, c1_dict, c2_dict):\n",
    "    \n",
    "    # re-index the test set to avoid problems when iterating\n",
    "    x_test.index = range(len(x_test))\n",
    "    \n",
    "    # create lists to store final predictions and class probabilities\n",
    "    y_pred = list()\n",
    "    c1_log_prob = list()\n",
    "    c2_log_prob = list()\n",
    "    \n",
    "    for i in range(len(x_test)):\n",
    "        c1 = 0     # sum of log probabilities for ' <=50' (i.e. log relative postier prob)\n",
    "        c2 = 0     # sum of log probabiliteis for ' >50' (i.e. log relative postier prob)\n",
    "        \n",
    "        # add the log prior probabilities\n",
    "        c1 += c1_dict['prior'][0]\n",
    "        c2 += c2_dict['prior'][0]\n",
    "        \n",
    "        for col in x_test.columns:\n",
    "              \n",
    "            if c1_dict[col][1] == 'num': # numeric attributes\n",
    "                \n",
    "                if str(x_test.loc[i][col]).isnumeric():\n",
    "                    mean_c1 = c1_dict[col][0][0] # read mean value\n",
    "                    std_c1 = c1_dict[col][0][1] # read std value\n",
    "                    c1 += np.log(norm_pdf(float(x_test.loc[i][col]), mean_c1, std_c1)) # add log likelihood\n",
    "                    \n",
    "                    mean_c2 = c2_dict[col][0][0] \n",
    "                    std_c2 = c2_dict[col][0][1] \n",
    "                    c2 += np.log(norm_pdf(float(x_test.loc[i][col]), mean_c2, std_c2))\n",
    "            \n",
    "                else: # Skip this numerical attribute for this instance if value is \"?\"\n",
    "                    pass      \n",
    "                \n",
    "            else: # nominal attributes\n",
    "                \n",
    "                if x_test.loc[i][col] in c1_dict[col][0]: \n",
    "                    # just comparing to the c1 prob set is enough because did laplace, so dict keys (unique attribute values) \n",
    "                    # should contain all training set unique attribute values\n",
    "                    c1 += c1_dict[col][0][x_test.loc[i][col]] # add log conditional probability\n",
    "                    c2 += c2_dict[col][0][x_test.loc[i][col]] \n",
    "                    \n",
    "                else: # Skip this attribute for this instance if value has not been seen in training\n",
    "                    pass\n",
    "                    \n",
    "        \n",
    "        # record the sum log probabilities for the two classes for this particular test instance\n",
    "        c1_log_prob.append(c1)\n",
    "        c2_log_prob.append(c2)\n",
    "        \n",
    "        # record the appropriate prediction, based on the sum log probabilities of the two classes \n",
    "        # for this particular test instance\n",
    "        if c1 > c2:\n",
    "            y_pred.append(' <=50K')\n",
    "        elif c1 < c2:\n",
    "            y_pred.append(' >50K')\n",
    "        else: # if equal then randomly allocate based on distribution of prior\n",
    "            y_pred.append(random.choices([' <=50K', ' >50K'], weights = [np.exp(c1_dict['prior'][0]), 1-np.exp(c1_dict['prior'][0])])[0])\n",
    "            \n",
    "    return y_pred, c1_log_prob, c2_log_prob\n",
    "    \n",
    "\n",
    "\n",
    "def norm_pdf(x, mean, std):\n",
    "    \"\"\" Helper function to calculate likelihood based on x value, and normal distribution hyperparameters\n",
    "    mean and standard deviation \"\"\"\n",
    "    \n",
    "    p = (1 / (std * np.sqrt(2 * np.pi))) * np.power(np.exp(1), (-1/2) * np.power((x - mean) / std, 2))\n",
    "\n",
    "    return p"
   ]
  },
  {
   "cell_type": "code",
   "execution_count": 5,
   "metadata": {},
   "outputs": [],
   "source": [
    "# This function should evaliate the prediction performance by comparing your model’s class outputs to ground\n",
    "# truth labels, return and output accuracy, confusion matrix and F1 score.\n",
    "\n",
    "def evaluate(y_pred, y_test):\n",
    "    \n",
    "    # create dataframe for y_pred and y_test\n",
    "    df = pd.DataFrame({'y_pred': y_pred, 'y_test': y_test['label']})\n",
    "    \n",
    "    # calculate the accuracy\n",
    "    accuracy = len(df[df['y_pred'] == df['y_test']])/len(df)\n",
    "    \n",
    "    # calculate tp, tn, fp, fn - assuming ' <=50K' is 'positive value'\n",
    "    tp = len(df[(df['y_pred'] == ' <=50K') & (df['y_test'] == ' <=50K')]) \n",
    "    tn = len(df[(df['y_pred'] == ' >50K') & (df['y_test'] == ' >50K')]) \n",
    "    fp = len(df[(df['y_pred'] == ' <=50K') & (df['y_test'] == ' >50K')]) \n",
    "    fn = len(df[(df['y_pred'] == ' >50K') & (df['y_test'] == ' <=50K')]) \n",
    "    \n",
    "    # build confusion matrix\n",
    "    c_matrix = pd.DataFrame({'Pred <=50K': [tp, fp], 'Pred >50K': [fn, tn]}, \n",
    "                            index = ['Actual <=50K', 'Actual >50K'])\n",
    "    \n",
    "    \n",
    "    # calculate precision, recall and use it to calcualte the F1 score\n",
    "    precision = (tp/len(df))/(tp/len(df)+fp/len(df))\n",
    "    recall = (tp/len(df))/(tp/len(df)+fn/len(df))\n",
    "    F1 = 2*precision*recall/(precision+recall)\n",
    "    \n",
    "    return accuracy, c_matrix, F1\n"
   ]
  },
  {
   "cell_type": "code",
   "execution_count": 6,
   "metadata": {},
   "outputs": [
    {
     "name": "stdout",
     "output_type": "stream",
     "text": [
      "Accuracy: 0.86\n",
      "\n",
      "Confusion Matrix:\n",
      "\n"
     ]
    },
    {
     "data": {
      "text/html": [
       "<div>\n",
       "<style scoped>\n",
       "    .dataframe tbody tr th:only-of-type {\n",
       "        vertical-align: middle;\n",
       "    }\n",
       "\n",
       "    .dataframe tbody tr th {\n",
       "        vertical-align: top;\n",
       "    }\n",
       "\n",
       "    .dataframe thead th {\n",
       "        text-align: right;\n",
       "    }\n",
       "</style>\n",
       "<table border=\"1\" class=\"dataframe\">\n",
       "  <thead>\n",
       "    <tr style=\"text-align: right;\">\n",
       "      <th></th>\n",
       "      <th>Pred &lt;=50K</th>\n",
       "      <th>Pred &gt;50K</th>\n",
       "    </tr>\n",
       "  </thead>\n",
       "  <tbody>\n",
       "    <tr>\n",
       "      <th>Actual &lt;=50K</th>\n",
       "      <td>69</td>\n",
       "      <td>8</td>\n",
       "    </tr>\n",
       "    <tr>\n",
       "      <th>Actual &gt;50K</th>\n",
       "      <td>6</td>\n",
       "      <td>17</td>\n",
       "    </tr>\n",
       "  </tbody>\n",
       "</table>\n",
       "</div>"
      ],
      "text/plain": [
       "              Pred <=50K  Pred >50K\n",
       "Actual <=50K          69          8\n",
       "Actual >50K            6         17"
      ]
     },
     "metadata": {},
     "output_type": "display_data"
    },
    {
     "name": "stdout",
     "output_type": "stream",
     "text": [
      "\n",
      "F1: 0.9078947368421053\n",
      "\n",
      "\n",
      "Attribute vectors of instances [0, 1, 2]: \n"
     ]
    },
    {
     "data": {
      "text/html": [
       "<div>\n",
       "<style scoped>\n",
       "    .dataframe tbody tr th:only-of-type {\n",
       "        vertical-align: middle;\n",
       "    }\n",
       "\n",
       "    .dataframe tbody tr th {\n",
       "        vertical-align: top;\n",
       "    }\n",
       "\n",
       "    .dataframe thead th {\n",
       "        text-align: right;\n",
       "    }\n",
       "</style>\n",
       "<table border=\"1\" class=\"dataframe\">\n",
       "  <thead>\n",
       "    <tr style=\"text-align: right;\">\n",
       "      <th></th>\n",
       "      <th>age</th>\n",
       "      <th>work class</th>\n",
       "      <th>education</th>\n",
       "      <th>education num</th>\n",
       "      <th>marital status</th>\n",
       "      <th>occupation</th>\n",
       "      <th>relationship</th>\n",
       "      <th>race</th>\n",
       "      <th>sex</th>\n",
       "      <th>hours per week</th>\n",
       "      <th>native country (region)</th>\n",
       "      <th>label</th>\n",
       "    </tr>\n",
       "  </thead>\n",
       "  <tbody>\n",
       "    <tr>\n",
       "      <th>0</th>\n",
       "      <td>68</td>\n",
       "      <td>?</td>\n",
       "      <td>1st-4th</td>\n",
       "      <td>2</td>\n",
       "      <td>Divorced</td>\n",
       "      <td>?</td>\n",
       "      <td>Not-in-family</td>\n",
       "      <td>White</td>\n",
       "      <td>Female</td>\n",
       "      <td>20</td>\n",
       "      <td>United-States</td>\n",
       "      <td>&lt;=50K</td>\n",
       "    </tr>\n",
       "    <tr>\n",
       "      <th>1</th>\n",
       "      <td>39</td>\n",
       "      <td>State-gov</td>\n",
       "      <td>Bachelors</td>\n",
       "      <td>13</td>\n",
       "      <td>Never-married</td>\n",
       "      <td>Adm-clerical</td>\n",
       "      <td>Not-in-family</td>\n",
       "      <td>White</td>\n",
       "      <td>Male</td>\n",
       "      <td>40</td>\n",
       "      <td>United-States</td>\n",
       "      <td>&lt;=50K</td>\n",
       "    </tr>\n",
       "    <tr>\n",
       "      <th>2</th>\n",
       "      <td>50</td>\n",
       "      <td>Self-emp-not-inc</td>\n",
       "      <td>Bachelors</td>\n",
       "      <td>13</td>\n",
       "      <td>Married-civ-spouse</td>\n",
       "      <td>Exec-managerial</td>\n",
       "      <td>Husband</td>\n",
       "      <td>White</td>\n",
       "      <td>Male</td>\n",
       "      <td>13</td>\n",
       "      <td>United-States</td>\n",
       "      <td>&lt;=50K</td>\n",
       "    </tr>\n",
       "  </tbody>\n",
       "</table>\n",
       "</div>"
      ],
      "text/plain": [
       "   age         work class   education  education num       marital status  \\\n",
       "0   68                  ?     1st-4th              2             Divorced   \n",
       "1   39          State-gov   Bachelors             13        Never-married   \n",
       "2   50   Self-emp-not-inc   Bachelors             13   Married-civ-spouse   \n",
       "\n",
       "         occupation    relationship    race      sex  hours per week  \\\n",
       "0                 ?   Not-in-family   White   Female              20   \n",
       "1      Adm-clerical   Not-in-family   White     Male              40   \n",
       "2   Exec-managerial         Husband   White     Male              13   \n",
       "\n",
       "  native country (region)   label  \n",
       "0           United-States   <=50K  \n",
       "1           United-States   <=50K  \n",
       "2           United-States   <=50K  "
      ]
     },
     "metadata": {},
     "output_type": "display_data"
    },
    {
     "name": "stdout",
     "output_type": "stream",
     "text": [
      "\n",
      "Number of instances (N):  1000\n",
      "Number of attributes (F):  11\n",
      "Number of labels (L):  2\n",
      "\n",
      "\n",
      "Predicted class log-probabilities for instance N-3:  \n",
      "\t <=50K: -20.768165488458912 \n",
      "\t >50K: -19.76217792549845\n",
      "Predicted class ID for instance N-3:   >50K\n",
      "\n",
      "Predicted class log-probabilities for instance N-2:  \n",
      "\t <=50K: -25.310387321914632 \n",
      "\t >50K: -22.803496285083625\n",
      "Predicted class ID for instance N-2:   >50K\n",
      "\n",
      "Predicted class log-probabilities for instance N-1:  \n",
      "\t <=50K: -16.929982096849525 \n",
      "\t >50K: -16.91915916100011\n",
      "Predicted class ID for instance N-1:   >50K\n"
     ]
    }
   ],
   "source": [
    "# This cell should act as your \"main\" function where you call the above functions \n",
    "# on the full ADULT data set, and print the evaluation score. [0.33 marks]\n",
    "\n",
    "import pandas as pd\n",
    "import numpy as np\n",
    "\n",
    "# First, read in the data and apply your NB model to the ADULT data\n",
    "\n",
    "# read in data. DATA MUST BE STORED IN DIRECTORY './dataset'\n",
    "data = pd.read_csv('./dataset/adult.csv')\n",
    "\n",
    "x_train, x_test, y_train, y_test = preprocess(data)\n",
    "\n",
    "c1_dict, c2_dict = train(x_train, y_train)\n",
    "\n",
    "y_pred, c1_log_prob, c2_log_prob = predict(x_test, c1_dict, c2_dict)\n",
    "\n",
    "accuracy, c_matrix, F1 = evaluate(y_pred, y_test)\n",
    "\n",
    "# Second, print the full evaluation results from the evaluate() function\n",
    "\n",
    "# print accuracy\n",
    "print(\"Accuracy:\", accuracy)\n",
    "\n",
    "# print confusion matrix\n",
    "print(\"\\nConfusion Matrix:\\n\")\n",
    "display(c_matrix)\n",
    "\n",
    "# print F1\n",
    "print(\"\\nF1:\", F1)\n",
    "print(\"\\n\")\n",
    "\n",
    "\n",
    "\n",
    "# Third, print data statistics and model predictions, as instructed below \n",
    "# N is the total number of instances, F the total number of attributes, L the total number of labels\n",
    "# The \"class probabilities\" may be unnormalized\n",
    "# The \"predicted class ID\" must be in range (0, L)\n",
    "\n",
    "\n",
    "print(\"Attribute vectors of instances [0, 1, 2]: \") # of the first three records in adult.csv\n",
    "display(data.iloc[0:3, :])\n",
    "\n",
    "print(\"\\nNumber of instances (N): \", len(data))\n",
    "print(\"Number of attributes (F): \", len(data.columns)-1) # exclude the label column\n",
    "print(\"Number of labels (L): \", len(set(data['label'])))\n",
    "\n",
    "# print out the prediction results of the last three instances\n",
    "print(\"\\n\\nPredicted class log-probabilities for instance N-3: \", \"\\n\\t <=50K:\", c1_log_prob[-3], \n",
    "      \"\\n\\t >50K:\", c2_log_prob[-3])\n",
    "print(\"Predicted class ID for instance N-3: \", y_pred[-3])\n",
    "print(\"\\nPredicted class log-probabilities for instance N-2: \", \"\\n\\t <=50K:\", c1_log_prob[-2], \n",
    "      \"\\n\\t >50K:\", c2_log_prob[-2])\n",
    "print(\"Predicted class ID for instance N-2: \", y_pred[-2])\n",
    "print(\"\\nPredicted class log-probabilities for instance N-1: \", \"\\n\\t <=50K:\", c1_log_prob[-1], \n",
    "      \"\\n\\t >50K:\", c2_log_prob[-1])\n",
    "print(\"Predicted class ID for instance N-1: \", y_pred[-1])\n"
   ]
  },
  {
   "cell_type": "markdown",
   "metadata": {},
   "source": [
    "## Part 2: Conceptual questions [8 marks for groups of 1] / [16 marks for groups of 2]\n",
    "\n",
    "\n",
    "If you are in a group of 1, you should respond to Q1 and Q2.\n",
    "\n",
    "If you are in a group of 2, you should respond to Q1, Q2, Q3 and Q4.\n",
    "\n",
    "A response to a question should take about 100–250 words. You may need to develope codes or functions to help respond to the question here. \n",
    "\n",
    "#### NOTE: We strongly recommend <u>including figures or tables, etc.</u> to support your responses. The figures and tables inserted in Markdown cells must be reproducable by your code."
   ]
  },
  {
   "cell_type": "markdown",
   "metadata": {},
   "source": [
    "### Q1 [4 marks]\n",
    "<u>Sensitivity</u> and <u>specificity</u> are two model evaluation metrics.  A good model should have both sensitivity and specificity high. Use the $2 \\times 2$ confusion matrix returned by `evaluate()` to calculate the sensitivity and specificity. Do you see a difference between them? If so, what causes this difference? Provide suggestions to improve the model performance. "
   ]
  },
  {
   "cell_type": "code",
   "execution_count": 7,
   "metadata": {},
   "outputs": [
    {
     "name": "stdout",
     "output_type": "stream",
     "text": [
      "Sensitvity:  0.8961038961038962\n",
      "Specificity:  0.7391304347826088\n"
     ]
    }
   ],
   "source": [
    "# Write additional code here, if necessary (you may insert additional code cells)\n",
    "\n",
    "# calculate sensitivity and specificity\n",
    "tp = c_matrix.iloc[0,0]\n",
    "tn = c_matrix.iloc[1,1]\n",
    "fp = c_matrix.iloc[1,0]\n",
    "fn = c_matrix.iloc[0,1]\n",
    "\n",
    "sensitivity = (tp/len(y_pred))/(tp/len(y_pred)+fn/len(y_pred))\n",
    "specificity = (tn/len(y_pred))/(tn/len(y_pred)+fp/len(y_pred))\n",
    "\n",
    "print(\"Sensitvity: \", sensitivity)\n",
    "\n",
    "print(\"Specificity: \", specificity)"
   ]
  },
  {
   "cell_type": "code",
   "execution_count": 8,
   "metadata": {},
   "outputs": [
    {
     "data": {
      "text/plain": [
       "label \n",
       " <=50K    692\n",
       " >50K     208\n",
       "dtype: int64"
      ]
     },
     "execution_count": 8,
     "metadata": {},
     "output_type": "execute_result"
    }
   ],
   "source": [
    "# inspect counts of positive and negative labels in training se\n",
    "y_train.value_counts()"
   ]
  },
  {
   "cell_type": "markdown",
   "metadata": {},
   "source": [
    "Provide your text answer of 150-200 words in this cell.\n",
    "\n",
    "***Q1 Response**: The sensitivity of this model is 0.896 whilst specificity is 0.739. The difference is unsurprising as one measures the proportion of True Positive out of all the Actual Positives, whilst the other measures the proportion of True Negatives out of all the Actual Negatives (i.e. their numerator and denominator uses different statistics). A reason for sensitivity being higher could be that there are more than 3 times positively labelled attributes in the training set (692 to 208), and thus the model has better learnt how to predict positives.*\n",
    "\n",
    "*One way to improve model performance could be to use alternative methods to deal with \"?\" classes, either ignoring them in training or attempting to impute their value by comparing with similar training instances and imputing using their value for this attribute. This is expected to improve performance because whilst \"?\"'s true value is unknown to us, different instances containing \"?\" in the same attribute likely has different true underlying values, and thus bluntly grouping all into a new class may be an incorrect assumption that distorts the model.*\n",
    "\n",
    "*Another general suggestion is to collect more data, as more instances should help the model better learn the true behaviour.*\n",
    "\n",
    "\n",
    "**Word Count: 197**"
   ]
  },
  {
   "cell_type": "markdown",
   "metadata": {},
   "source": [
    "### Q2 [4 marks]\n",
    "You can adopt different methods for training and/or testing, which will produce different results in model evaluation. \n",
    "\n",
    "(a) Instead of Gaussian, <u>implement KDE</u> for  $P(X_i|c_j)$ for numeric attributes $X_i$. Compare the evaluation results with Gaussian. Which one do you think is more suitable to model $P(X_i|c_j)$, Gaussian or KDE? Observe all numeric attributes and justify your answer.\n",
    "\n",
    "You can choose an arbitrary value for kernel bandwidth $\\sigma$ for KDE, but a value between 3 and 15 is recommended. You should write code to implement KDE, not call an existing function/method such as `KernelDensity` from `scikit-learn`."
   ]
  },
  {
   "cell_type": "code",
   "execution_count": 9,
   "metadata": {},
   "outputs": [],
   "source": [
    "#(a)\n",
    "\n",
    "# This function should calculates prior probabilities and likelihoods (conditional probabilities) from the training data\n",
    "# to build a naive Bayes model\n",
    "\n",
    "def train_kde(x_train, y_train):\n",
    "    \n",
    "    # prepare the data\n",
    "    train = x_train.copy()\n",
    "    train['label'] = y_train\n",
    "    \n",
    "    train_c1 = train[train['label'] == ' <=50K']\n",
    "    train_c2 = train[train['label'] == ' >50K']\n",
    "\n",
    "    # Create master dictionaries for each classe, which will: for prior and numerical attributes store tuples \n",
    "    # containing log likelihood / mean and standard deviation respectively, or for ordinal attributes store \n",
    "    # dictionaries which contain log observed probabilities of each value.\n",
    "    \n",
    "    # for each dictionary/tuple, it will be surrounded by a further tuple to denote its status as numerical \n",
    "    # attribute, ordinal attribute or prior.\n",
    "\n",
    "    c1_dict = dict()\n",
    "    c2_dict = dict()\n",
    "    \n",
    "    # store the log prior probabilities \n",
    "    c1_dict['prior'] = (np.log( len(train_c1) / len(train) ), 'prior')\n",
    "    c2_dict['prior'] = (np.log( len(train_c2) / len(train) ), 'prior')\n",
    "    \n",
    "    # iterate through the columns\n",
    "    for col in x_train.columns:\n",
    "        \n",
    "        # if find a column that is numeric\n",
    "        if col in NUMERIC_ATTRBS:\n",
    "            \n",
    "            # Prevent edge case of having '?' in numeric data which would cause np.mean and np.std to fail\n",
    "            # by putting all numeric data values into a new list.\n",
    "            tmp1 = list()\n",
    "            tmp2 = list()\n",
    "            \n",
    "            # comment same as train()\n",
    "            for i in train_c1[col].index:\n",
    "                if str(train_c1[col][i]).isnumeric():\n",
    "                    tmp1.append(int(train_c1[col][i]))\n",
    "            \n",
    "            for i in train_c2[col].index:\n",
    "                if str(train_c2[col][i]).isnumeric():\n",
    "                    tmp2.append(int(train_c2[col][i]))\n",
    "            \n",
    "            # This time for KDE just store whole list of numerical values into the tuple\n",
    "            c1_dict[col] = (tmp1, 'num')\n",
    "            c2_dict[col] = (tmp2, 'num')\n",
    "        \n",
    "        # if find a column that is nominal\n",
    "        else:\n",
    "            \n",
    "            # first find the set of all possible attribute values in the train set\n",
    "            attrb_val = set()\n",
    "            for val in train[col].value_counts().index:\n",
    "                attrb_val.add(val)\n",
    "            attrb_val = list(attrb_val)\n",
    "\n",
    "            \n",
    "            # for each value get its log observed probabilities (laplace smoothed alpha = 1)      \n",
    "            tmp1 = dict()\n",
    "            for i in range(len(train_c1[col].value_counts().index)):\n",
    "                # logic: dict[attrb value] = log( (counts_of_this_attribute_value + 1) / (n+p) ) \n",
    "                tmp1[train_c1[col].value_counts().index[i]] = np.log((train_c1[col].value_counts().values[i] + 1)/(len(train_c1)+len(attrb_val)))\n",
    "            \n",
    "            # for unseen attribute values that exist in train data but are of other class labels\n",
    "            for i in range(len(attrb_val)):\n",
    "                if attrb_val[i] not in train_c1[col].value_counts().index:\n",
    "                    # logic: dict[unseen attrb value] = log(1/(n+p))\n",
    "                    tmp1[attrb_val[i]] = np.log(1/(len(train_c1)+len(attrb_val)))\n",
    "                \n",
    "            c1_dict[col] = (tmp1, 'nom')\n",
    "               \n",
    "            tmp2 = dict()\n",
    "            for i in range(len(train_c2[col].value_counts().index)):\n",
    "                tmp2[train_c2[col].value_counts().index[i]] = np.log((train_c2[col].value_counts().values[i] + 1)/(len(train_c2)+len(attrb_val)))\n",
    "            \n",
    "            for i in range(len(attrb_val)):\n",
    "                if attrb_val[i] not in train_c2[col].value_counts().index:\n",
    "                    tmp2[attrb_val[i]] = np.log(1/(len(train_c2)+len(attrb_val)))\n",
    "                \n",
    "            c2_dict[col] = (tmp2, 'nom')\n",
    "            \n",
    "    \n",
    "    return c1_dict, c2_dict\n"
   ]
  },
  {
   "cell_type": "code",
   "execution_count": 10,
   "metadata": {},
   "outputs": [],
   "source": [
    "# This function should predict classes for new items in the testing data\n",
    "from scipy.stats import norm\n",
    "\n",
    "def predict_kde(x_test, c1_dict, c2_dict, STD):\n",
    "    \n",
    "    # re-index the test set\n",
    "    x_test.index = range(len(x_test))\n",
    "    \n",
    "    # create lists to store final predictions and class probabilities\n",
    "    y_pred = list()\n",
    "    c1_log_prob = list()\n",
    "    c2_log_prob = list()\n",
    "    \n",
    "    for i in range(len(x_test)): \n",
    "        c1 = 0     # sum of log probabilities for ' <=50' (i.e. log relative postier prob)\n",
    "        c2 = 0     # sum of log probabiliteis for ' >50' (i.e. log relative postier prob)\n",
    "         \n",
    "        # add the log prior probabilities\n",
    "        c1 += c1_dict['prior'][0]\n",
    "        c2 += c2_dict['prior'][0]\n",
    "        \n",
    "        for col in x_test.columns:\n",
    "            \n",
    "            if c1_dict[col][1] == 'num':\n",
    "                if str(x_test.loc[i][col]).isnumeric():\n",
    "                    \n",
    "                    kde_c1 = 0 # record sum(likelihoods based on KDE)\n",
    "                    for j in range(len(c1_dict[col][0])): # add the log likelihoods based on KDE built by train instance value\n",
    "                        kde_c1 += norm_pdf(float(x_test.loc[i][col]), c1_dict[col][0][j], STD) \n",
    "                    c1 += ( np.log(kde_c1) - np.log(len(c1_dict[col][0])) ) # log version of (1/N * sum(likelihoods based on KDE))\n",
    "\n",
    "                    kde_c2 = 0\n",
    "                    for j in range(len(c2_dict[col][0])):\n",
    "                        kde_c2 += norm_pdf(float(x_test.loc[i][col]), c2_dict[col][0][j], STD)\n",
    "                    c2 += ( np.log(kde_c2) - np.log(len(c2_dict[col][0])) )\n",
    "                \n",
    "                else: # Skip this numerical attribute for this instance if value is \"?\"\n",
    "                    pass   \n",
    "                \n",
    "            else:\n",
    "\n",
    "                if x_test.loc[i][col] in c1_dict[col][0]: \n",
    "                    # just comparing to the c1 prob set is enough because did laplace, so dict keys (unique attribute values) \n",
    "                    # should contain all training set unique attribute values\n",
    "                    c1 += c1_dict[col][0][x_test.loc[i][col]] # add log conditional probablity\n",
    "                    c2 += c2_dict[col][0][x_test.loc[i][col]]\n",
    "                    \n",
    "                else: # Skip this attribute for this instance if value has not been seen in training\n",
    "                    pass\n",
    "                         \n",
    "        c1_log_prob.append(c1)\n",
    "        c2_log_prob.append(c2)\n",
    "        \n",
    "        # record the appropriate prediction, based on the sum log probabilities of the two classes \n",
    "        # for this particular test instance\n",
    "        if c1 > c2:\n",
    "            y_pred.append(' <=50K')\n",
    "        elif c1 < c2:\n",
    "            y_pred.append(' >50K')\n",
    "        else: # if equal then randomly allocate based on distribution of prior\n",
    "            y_pred.append(random.choices([' <=50K', ' >50K'], weights = [np.exp(c1_dict['prior'][0]), 1-np.exp(c1_dict['prior'][0])])[0])\n",
    "            \n",
    "    return y_pred, c1_log_prob, c2_log_prob\n"
   ]
  },
  {
   "cell_type": "code",
   "execution_count": 11,
   "metadata": {},
   "outputs": [
    {
     "name": "stdout",
     "output_type": "stream",
     "text": [
      "Accuracy: 0.85\n",
      "\n",
      "Confusion Matrix:\n",
      "\n"
     ]
    },
    {
     "data": {
      "text/html": [
       "<div>\n",
       "<style scoped>\n",
       "    .dataframe tbody tr th:only-of-type {\n",
       "        vertical-align: middle;\n",
       "    }\n",
       "\n",
       "    .dataframe tbody tr th {\n",
       "        vertical-align: top;\n",
       "    }\n",
       "\n",
       "    .dataframe thead th {\n",
       "        text-align: right;\n",
       "    }\n",
       "</style>\n",
       "<table border=\"1\" class=\"dataframe\">\n",
       "  <thead>\n",
       "    <tr style=\"text-align: right;\">\n",
       "      <th></th>\n",
       "      <th>Pred &lt;=50K</th>\n",
       "      <th>Pred &gt;50K</th>\n",
       "    </tr>\n",
       "  </thead>\n",
       "  <tbody>\n",
       "    <tr>\n",
       "      <th>Actual &lt;=50K</th>\n",
       "      <td>68</td>\n",
       "      <td>9</td>\n",
       "    </tr>\n",
       "    <tr>\n",
       "      <th>Actual &gt;50K</th>\n",
       "      <td>6</td>\n",
       "      <td>17</td>\n",
       "    </tr>\n",
       "  </tbody>\n",
       "</table>\n",
       "</div>"
      ],
      "text/plain": [
       "              Pred <=50K  Pred >50K\n",
       "Actual <=50K          68          9\n",
       "Actual >50K            6         17"
      ]
     },
     "metadata": {},
     "output_type": "display_data"
    },
    {
     "name": "stdout",
     "output_type": "stream",
     "text": [
      "\n",
      "F1: 0.9006622516556292\n",
      "\n",
      "\n"
     ]
    }
   ],
   "source": [
    "# Main function for KDE\n",
    "\n",
    "data = pd.read_csv('./dataset/adult.csv')\n",
    "\n",
    "x_train, x_test, y_train, y_test = preprocess(data)\n",
    "\n",
    "c1_dict_kde, c2_dict_kde = train_kde(x_train, y_train)\n",
    "\n",
    "y_pred_kde, c1_prob_kde, c2_prob_kde = predict_kde(x_test, c1_dict_kde, c2_dict_kde, STD = 3)\n",
    "\n",
    "accuracy_kde, c_matrix_kde, F1_kde = evaluate(y_pred_kde, y_test)\n",
    "\n",
    "# Second, print the full evaluation results from the evaluate() function\n",
    "print(\"Accuracy:\", accuracy_kde)\n",
    "\n",
    "print(\"\\nConfusion Matrix:\\n\")\n",
    "display(c_matrix_kde)\n",
    "\n",
    "print(\"\\nF1:\", F1_kde)\n",
    "print(\"\\n\")"
   ]
  },
  {
   "cell_type": "code",
   "execution_count": 12,
   "metadata": {},
   "outputs": [
    {
     "data": {
      "image/png": "[encoded data removed]",
      "text/plain": [
       "<Figure size 432x288 with 1 Axes>"
      ]
     },
     "metadata": {
      "needs_background": "light"
     },
     "output_type": "display_data"
    }
   ],
   "source": [
    "import matplotlib.pyplot as plt\n",
    "\n",
    "labels = ['Accuracy', 'F1']\n",
    "two_fold = [accuracy, F1]\n",
    "ten_fold = [accuracy_kde, F1_kde]\n",
    "\n",
    "x = np.arange(len(labels))  # the label locations\n",
    "width = 0.35  # the width of the bars\n",
    "\n",
    "fig, ax = plt.subplots()\n",
    "rects1 = ax.bar(x - width/2, two_fold, width, label='Gaussian')\n",
    "rects2 = ax.bar(x + width/2, ten_fold, width, label='KDE')\n",
    "\n",
    "# Add some text for labels, title and custom x-axis tick labels, etc.\n",
    "ax.set_ylabel('Score')\n",
    "ax.set_title('Comparison of Gaussian and KDE')\n",
    "plt.xticks(x, labels, rotation = 0);\n",
    "plt.yticks([x/10 for x in range(13)])\n",
    "ax.legend()\n",
    "\n",
    "ax.bar_label(rects1, padding=3)\n",
    "ax.bar_label(rects2, padding=3)\n",
    "\n",
    "fig.tight_layout()\n",
    "\n",
    "plt.show()"
   ]
  },
  {
   "cell_type": "markdown",
   "metadata": {},
   "source": [
    "**Inspection of numerical values**"
   ]
  },
  {
   "cell_type": "code",
   "execution_count": 13,
   "metadata": {},
   "outputs": [
    {
     "data": {
      "image/png": "[encoded data removed]",
      "text/plain": [
       "<Figure size 432x288 with 1 Axes>"
      ]
     },
     "metadata": {
      "needs_background": "light"
     },
     "output_type": "display_data"
    }
   ],
   "source": [
    "# Graph age, education number, hours\n",
    "import matplotlib.pyplot as plt\n",
    "\n",
    "plt.title('Age attribute distribution')\n",
    "plt.xlabel('Attribute Value')\n",
    "plt.ylabel('Frequency')\n",
    "plt.hist(x_train['age'], bins = 15);"
   ]
  },
  {
   "cell_type": "code",
   "execution_count": 14,
   "metadata": {},
   "outputs": [
    {
     "data": {
      "image/png": "[encoded data removed]",
      "text/plain": [
       "<Figure size 432x288 with 1 Axes>"
      ]
     },
     "metadata": {
      "needs_background": "light"
     },
     "output_type": "display_data"
    }
   ],
   "source": [
    "plt.title('Education Num attribute distribution')\n",
    "plt.xlabel('Attribute Value')\n",
    "plt.ylabel('Frequency')\n",
    "plt.hist(x_train['education num'], bins = 15);"
   ]
  },
  {
   "cell_type": "code",
   "execution_count": 15,
   "metadata": {},
   "outputs": [
    {
     "data": {
      "image/png": "[encoded data removed]",
      "text/plain": [
       "<Figure size 432x288 with 1 Axes>"
      ]
     },
     "metadata": {
      "needs_background": "light"
     },
     "output_type": "display_data"
    }
   ],
   "source": [
    "plt.title('Hours Per Week attribute distribution')\n",
    "plt.xlabel('Attribute Value')\n",
    "plt.ylabel('Frequency')\n",
    "plt.hist(x_train['hours per week'], bins = 15);"
   ]
  },
  {
   "cell_type": "markdown",
   "metadata": {},
   "source": [
    "***Q2a Response**: Observing the evaluation statistics, Gaussian performs just slightly better than KDE in terms of both Accuracy and F1 for this set of training statistics.*\n",
    "\n",
    "*The distribution (observed from histograms) of the numerical attributes however point to a different direction: the ‘age’ attribute’s distribution is right-skewed, indicating that KDE should work better than Gaussian as it is non-symmetrical. The distribution of ‘education num’ is bimodal with peaks in 9-11 and 13-14, once again meaning KDE should work better as Gaussian assumes single mode. Finally, ‘hours per week’ has a single mode at 40-45 and thus should work better with Gaussian.*\n",
    "\n",
    "*Overall, with two numeric attributes pointing to KDE as the more suitable option, and Gaussian’s evaluation statistics only leading KDE marginally, KDE should be used rather than Gaussian.*\n",
    "\n",
    "*A better option would be to use KDE for ‘age’ and ‘education num’, and Gaussian for ‘hours per week’. This may require more inspection of data prior to training future model if more data arrives, and potentially causes issues for cross-validation; but assuming the training data generally captures the distribution of the whole set this shouldn’t be a problem, and would allow the model to utilise the best of both KDE and Gaussian.*\n",
    "\n",
    "**Word Count: 200**"
   ]
  },
  {
   "cell_type": "markdown",
   "metadata": {},
   "source": [
    "(b) Implement <u>10-fold and 2-fold cross-validations</u>.  \n",
    "\tObserve the evaluation results in each fold and the average accuracy, recall and specificity over all folds. \n",
    "\tComment on what is the effect by changing the values of $m$ in $m$-fold cross validation. (You can choose either Gaussian or KDE Naive Bayes.)"
   ]
  },
  {
   "cell_type": "code",
   "execution_count": 16,
   "metadata": {},
   "outputs": [],
   "source": [
    "# b)\n",
    "# Write additional code here, if necessary (you may insert additional code cells)\n",
    "from sklearn.model_selection import KFold\n",
    "\n",
    "x = data[data.columns[:-1]]\n",
    "y = data[['label']]\n"
   ]
  },
  {
   "cell_type": "code",
   "execution_count": 17,
   "metadata": {},
   "outputs": [],
   "source": [
    "k = 2\n",
    "kf = KFold(n_splits = k, shuffle = False) # instantialise the KFold module\n",
    "\n",
    "# Create lists for storing desired values\n",
    "accuracy_score_2 = []\n",
    "specification_score_2 = []\n",
    "recall_score_2 = []\n",
    "\n",
    "for train_index, test_index in kf.split(data):\n",
    "    x_train, x_test = x.iloc[train_index, :], x.iloc[test_index, :]\n",
    "    y_train, y_test = y.iloc[train_index], y.iloc[test_index]\n",
    "    \n",
    "    c1_dict, c2_dict = train(x_train, y_train)\n",
    "\n",
    "    y_pred, c1_prob, c2_prob = predict(x_test, c1_dict, c2_dict)\n",
    "\n",
    "    accuracy, c_matrix, F1 = evaluate(y_pred, y_test)\n",
    "    \n",
    "    # append the accuracy to the list\n",
    "    accuracy_score_2.append(accuracy)\n",
    "    \n",
    "    # regain the four measures from the matrix\n",
    "    tp = c_matrix.loc['Actual <=50K']['Pred <=50K']\n",
    "    tn = c_matrix.loc['Actual >50K']['Pred >50K']\n",
    "    fp = c_matrix.loc['Actual >50K']['Pred <=50K']\n",
    "    fn = c_matrix.loc['Actual <=50K']['Pred >50K']\n",
    "    \n",
    "    # calculate specification\n",
    "    specification = (tn/len(y_test)) / ( tn/len(y_test) + fp/len(y_test) )\n",
    "    specification_score_2.append(specification)\n",
    "     \n",
    "    # calculate recall    \n",
    "    recall = (tp/len(y_test)) / ( tp/len(y_test) + fn/len(y_test) )\n",
    "    recall_score_2.append(recall)\n",
    "\n",
    "# calculate mean scores out of all folds\n",
    "mean_accuracy_2 = np.mean(accuracy_score_2)\n",
    "mean_specification_2 = np.mean(specification_score_2)\n",
    "mean_recall_2 = np.mean(recall_score_2)                                \n"
   ]
  },
  {
   "cell_type": "code",
   "execution_count": 18,
   "metadata": {},
   "outputs": [],
   "source": [
    "k = 10\n",
    "kf = KFold(n_splits = k, shuffle = False) # instantialise the KFold module\n",
    "\n",
    "# Create lists for storing desired values\n",
    "accuracy_score_10 = []\n",
    "specification_score_10 = []\n",
    "recall_score_10 = []\n",
    "\n",
    "for train_index, test_index in kf.split(data):\n",
    "    x_train, x_test = x.iloc[train_index, :], x.iloc[test_index, :]\n",
    "    y_train, y_test = y.iloc[train_index], y.iloc[test_index]\n",
    "    \n",
    "    c1_dict, c2_dict = train(x_train, y_train)\n",
    "\n",
    "    y_pred, c1_log_prob, c2_log_prob = predict(x_test, c1_dict, c2_dict)\n",
    "\n",
    "    accuracy, c_matrix, F1 = evaluate(y_pred, y_test)\n",
    "    \n",
    "    # append the accuracy to the list\n",
    "    accuracy_score_10.append(accuracy)\n",
    "    \n",
    "    # regain the four measures from the matrix\n",
    "    tp = c_matrix.loc['Actual <=50K']['Pred <=50K']\n",
    "    tn = c_matrix.loc['Actual >50K']['Pred >50K']\n",
    "    fp = c_matrix.loc['Actual >50K']['Pred <=50K']\n",
    "    fn = c_matrix.loc['Actual <=50K']['Pred >50K']\n",
    "    \n",
    "    # calculate specification\n",
    "    specification = (tn/len(y_test)) / ( tn/len(y_test) + fp/len(y_test) )\n",
    "    specification_score_10.append(specification)\n",
    "     \n",
    "    # calculate recall    \n",
    "    recall = (tp/len(y_test)) / ( tp/len(y_test) + fn/len(y_test) )\n",
    "    recall_score_10.append(recall)\n",
    "\n",
    "# calculate mean scores out of all folds\n",
    "mean_accuracy_10 = np.mean(accuracy_score_10)\n",
    "mean_specification_10 = np.mean(specification_score_10)\n",
    "mean_recall_10 = np.mean(recall_score_10)                                \n"
   ]
  },
  {
   "cell_type": "code",
   "execution_count": 19,
   "metadata": {},
   "outputs": [
    {
     "name": "stdout",
     "output_type": "stream",
     "text": [
      "Average Accuracy Score (2 fold):  0.821\n",
      "Average Recall Score (2 fold):  0.8596703058836263\n",
      "Average Specification Score (2 fold):  0.6939028048597571\n",
      "\n",
      "\n",
      "Average Accuracy Score (10 fold):  0.8150000000000001\n",
      "Average Recall Score (10 fold):  0.847512449866732\n",
      "Average Specification Score (10 fold):  0.7078850304285086\n"
     ]
    }
   ],
   "source": [
    "print('Average Accuracy Score (2 fold): ', mean_accuracy_2)\n",
    "print('Average Recall Score (2 fold): ', mean_recall_2)  \n",
    "print('Average Specification Score (2 fold): ', mean_specification_2)                                \n",
    "print('\\n')\n",
    "\n",
    "print('Average Accuracy Score (10 fold): ', mean_accuracy_10)\n",
    "print('Average Recall Score (10 fold): ', mean_recall_10) \n",
    "print('Average Specification Score (10 fold): ', mean_specification_10)                                "
   ]
  },
  {
   "cell_type": "code",
   "execution_count": 20,
   "metadata": {},
   "outputs": [
    {
     "data": {
      "image/png": "[encoded data removed]",
      "text/plain": [
       "<Figure size 432x288 with 1 Axes>"
      ]
     },
     "metadata": {
      "needs_background": "light"
     },
     "output_type": "display_data"
    }
   ],
   "source": [
    "labels = ['Avg Accuracy Score', 'Avg Recall Score', 'Avg Specification Score']\n",
    "two_fold = [mean_accuracy_2, mean_recall_2, mean_specification_2]\n",
    "ten_fold = [mean_accuracy_10, mean_recall_10, mean_specification_10]\n",
    "\n",
    "x = np.arange(len(labels))  # the label locations\n",
    "width = 0.35  # the width of the bars\n",
    "\n",
    "fig, ax = plt.subplots()\n",
    "rects1 = ax.bar(x - width/2, two_fold, width, label='2-fold')\n",
    "rects2 = ax.bar(x + width/2, ten_fold, width, label='10-fold')\n",
    "\n",
    "# Add some text for labels, title and custom x-axis tick labels, etc.\n",
    "ax.set_ylabel('Score')\n",
    "ax.set_title('Comparison between 2-fold and 10-fold')\n",
    "plt.xticks(x, labels, rotation = 0);\n",
    "plt.yticks([x/10 for x in range(11)])\n",
    "ax.legend()\n",
    "\n",
    "ax.bar_label(rects1, padding=3)\n",
    "ax.bar_label(rects2, padding=3)\n",
    "\n",
    "fig.tight_layout()\n",
    "\n",
    "plt.show()"
   ]
  },
  {
   "cell_type": "markdown",
   "metadata": {
    "jupyter": {
     "outputs_hidden": true
    }
   },
   "source": [
    "**Q2b Response***: The Average Accuracy Score is 0.821 and 0.815 for 2-fold and 10-fold respectively; the Average Recall Score is 0.8596 and 0.8475 and the Average Specification Score is 0.6939 and 0.7078 respectively.*\n",
    "\n",
    "*For Average Accuracy and Recall Score, 2-fold has higher values than 10-fold; whilst for Average Specification Score, 10-fold has higher value than 2-fold. By the Central Limit Theorem, the mean scores of 10-fold should be closer to the true mean score of **this implementation of Naïve Bayes for this dataset**, and thus the 2-fold models are likely overfitting due to more randomness in the splits. Nonetheless, the differences are quite small.*\n",
    "\n",
    "*Another effect on changing the m parameter for m-fold cross validation (though not directly related to the scores), is the number of test cases are different. As cross validation requires all instances used once as a test case, 2-fold means 50% of the instances are used as test and 10-fold means 10% of the instances are used as tests. Using less folds does mean less data is being used for training and generally should make the model worse in terms of generalisability.*\n",
    "\n",
    "*Increasing m also increases computational time, as each fold needs to train one model.*\n",
    "\n",
    "\n",
    "**Word Count: 198**"
   ]
  },
  {
   "cell_type": "markdown",
   "metadata": {},
   "source": [
    "### Q3 [4 marks]\n",
    "In `train()`, you are asked to treat the missing value of nominal attributes as a new category. There is another option (as suggested in Thu lecture in week 2): <u>ignoring the missing values</u>. \n",
    "Compare the two methods in both large and small datasets. Comment and explain your observations.\n",
    "You can extract the first 50 records to construct a small dataset.Use Gaussian Naive Bayes only for this question."
   ]
  },
  {
   "cell_type": "code",
   "execution_count": 21,
   "metadata": {},
   "outputs": [],
   "source": [
    "# Write additional code here, if necessary (you may insert additional code cells"
   ]
  },
  {
   "cell_type": "markdown",
   "metadata": {},
   "source": [
    "Provide your text answer of 150-200 words in this cell."
   ]
  },
  {
   "cell_type": "markdown",
   "metadata": {},
   "source": [
    "### Q4 [4 marks]\n",
    "In week 4, we have learned how to obtain information gain (IG) and gain ratio (GR) to choose an attribute to split a node in a decision tree. We will see how to apply them in the Naive Bayes classification.\n",
    "\n",
    "(a) Compute the GR of each attribute $X_i$, relative to the class distribution. In the Na\\\"ive Bayes classifier, remove attributes in the ascending order of GR: first, remove $P(X_i|c_j)$ such that $X_i$ has the least GR; second, remove $P(X_{i'}|c_j)$ such that $X_{i'}$ has the second least GR,......, until there is only one $X_{i*}$ with the largest GR remaining in the maximand $P(c_j) P(X_{i^*} | c_j)$. Observe the <u>change of the accuracy for both Gaussian and KDE</u> (Choose bandwidth $\\sigma=10$ for KDE).\n",
    "\n",
    "(b) Compute the IG between each pair of attributes. Describe and explain your observations. Choose an attribute and implement an estimator to predict the value of `education num`. Explain why you choose this attribute. Enumerate two other examples that an attribute can be used to estimate the other and explain the reason.  "
   ]
  },
  {
   "cell_type": "code",
   "execution_count": 22,
   "metadata": {},
   "outputs": [],
   "source": [
    "# Write additional code here, if necessary (you may insert additional code cells)\n"
   ]
  },
  {
   "cell_type": "markdown",
   "metadata": {},
   "source": [
    "### (a)"
   ]
  },
  {
   "cell_type": "markdown",
   "metadata": {},
   "source": [
    "Provide your text answer to **Question 4.a** of 100-150 words in this cell."
   ]
  },
  {
   "cell_type": "markdown",
   "metadata": {},
   "source": [
    "### (b)"
   ]
  },
  {
   "cell_type": "markdown",
   "metadata": {},
   "source": [
    "Provide your text answer to **Question 4.b** of 150-200 words in this cell."
   ]
  },
  {
   "cell_type": "markdown",
   "metadata": {},
   "source": [
    "<b>Authorship Declaration</b>:\n",
    "\n",
    "   (1) I certify that the program contained in this submission is completely\n",
    "   my own individual work, except where explicitly noted by comments that\n",
    "   provide details otherwise.  I understand that work that has been developed\n",
    "   by another student, or by me in collaboration with other students,\n",
    "   or by non-students as a result of request, solicitation, or payment,\n",
    "   may not be submitted for assessment in this subject.  I understand that\n",
    "   submitting for assessment work developed by or in collaboration with\n",
    "   other students or non-students constitutes Academic Misconduct, and\n",
    "   may be penalized by mark deductions, or by other penalties determined\n",
    "   via the University of Melbourne Academic Honesty Policy, as described\n",
    "   at https://academicintegrity.unimelb.edu.au.\n",
    "\n",
    "   (2) I also certify that I have not provided a copy of this work in either\n",
    "   softcopy or hardcopy or any other form to any other student, and nor will\n",
    "   I do so until after the marks are released. I understand that providing\n",
    "   my work to other students, regardless of my intention or any undertakings\n",
    "   made to me by that other student, is also Academic Misconduct.\n",
    "\n",
    "   (3) I further understand that providing a copy of the assignment\n",
    "   specification to any form of code authoring or assignment tutoring\n",
    "   service, or drawing the attention of others to such services and code\n",
    "   that may have been made available via such a service, may be regarded\n",
    "   as Student General Misconduct (interfering with the teaching activities\n",
    "   of the University and/or inciting others to commit Academic Misconduct).\n",
    "   I understand that an allegation of Student General Misconduct may arise\n",
    "   regardless of whether or not I personally make use of such solutions\n",
    "   or sought benefit from such actions.\n",
    "\n",
    "   <b>Signed by</b>: Lang (Ron) Chen\n",
    "   \n",
    "   <b>Dated</b>: 7/4/2022"
   ]
  }
 ],
 "metadata": {
  "kernelspec": {
   "display_name": "Python 3 (ipykernel)",
   "language": "python",
   "name": "python3"
  },
  "language_info": {
   "codemirror_mode": {
    "name": "ipython",
    "version": 3
   },
   "file_extension": ".py",
   "mimetype": "text/x-python",
   "name": "python",
   "nbconvert_exporter": "python",
   "pygments_lexer": "ipython3",
   "version": "3.9.7"
  }
 },
 "nbformat": 4,
 "nbformat_minor": 4
}
